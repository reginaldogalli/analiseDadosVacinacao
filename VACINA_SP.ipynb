{
  "nbformat": 4,
  "nbformat_minor": 0,
  "metadata": {
    "colab": {
      "name": "VACINA_SP.ipynb",
      "provenance": [],
      "include_colab_link": true
    },
    "kernelspec": {
      "name": "python3",
      "display_name": "Python 3"
    },
    "language_info": {
      "name": "python"
    }
  },
  "cells": [
    {
      "cell_type": "markdown",
      "metadata": {
        "id": "view-in-github",
        "colab_type": "text"
      },
      "source": [
        "<a href=\"https://colab.research.google.com/github/reginaldogalli/analiseDadosVacinacao/blob/main/VACINA_SP.ipynb\" target=\"_parent\"><img src=\"https://colab.research.google.com/assets/colab-badge.svg\" alt=\"Open In Colab\"/></a>"
      ]
    },
    {
      "cell_type": "code",
      "metadata": {
        "colab": {
          "base_uri": "https://localhost:8080/"
        },
        "id": "76XslTf4ccHj",
        "outputId": "96656310-0903-4012-da4f-d34a16df2ca4"
      },
      "source": [
        "from google.colab import drive\n",
        "drive.mount('/content/drive', force_remount=True)"
      ],
      "execution_count": 6,
      "outputs": [
        {
          "output_type": "stream",
          "text": [
            "Mounted at /content/drive\n"
          ],
          "name": "stdout"
        }
      ]
    },
    {
      "cell_type": "code",
      "metadata": {
        "id": "g9WSTIM5dVWz",
        "colab": {
          "base_uri": "https://localhost:8080/"
        },
        "outputId": "7523fd8d-43e2-488c-d5d6-d72438145f8b"
      },
      "source": [
        "# baixa baixa um arquivo csv da internet direto para a pasta no google drive\n",
        "!wget -P '/content/drive/MyDrive/Colab Datasets/vacina_sp' https://s3-sa-east-1.amazonaws.com/ckan.saude.gov.br/PNI/vacina/uf/2021-07-07/uf%3DSP/part-00000-f537b1aa-bf85-43a3-93e6-839ed89e4258.c000.csv"
      ],
      "execution_count": null,
      "outputs": [
        {
          "output_type": "stream",
          "text": [
            "--2021-07-09 12:05:40--  https://s3-sa-east-1.amazonaws.com/ckan.saude.gov.br/PNI/vacina/uf/2021-07-07/uf%3DSP/part-00000-f537b1aa-bf85-43a3-93e6-839ed89e4258.c000.csv\n",
            "Resolving s3-sa-east-1.amazonaws.com (s3-sa-east-1.amazonaws.com)... 52.95.164.38\n",
            "Connecting to s3-sa-east-1.amazonaws.com (s3-sa-east-1.amazonaws.com)|52.95.164.38|:443... connected.\n",
            "HTTP request sent, awaiting response... 200 OK\n",
            "Length: 12842708184 (12G) [text/csv]\n",
            "Saving to: ‘/content/drive/MyDrive/Colab Datasets/vacina_sp/part-00000-f537b1aa-bf85-43a3-93e6-839ed89e4258.c000.csv’\n",
            "\n",
            "part-00000-f537b1aa 100%[===================>]  11.96G  21.8MB/s    in 9m 43s  \n",
            "\n",
            "2021-07-09 12:15:24 (21.0 MB/s) - ‘/content/drive/MyDrive/Colab Datasets/vacina_sp/part-00000-f537b1aa-bf85-43a3-93e6-839ed89e4258.c000.csv’ saved [12842708184/12842708184]\n",
            "\n"
          ],
          "name": "stdout"
        }
      ]
    },
    {
      "cell_type": "code",
      "metadata": {
        "id": "ai8bfVKvhogy"
      },
      "source": [
        "# importa a biblioteca pandas como pd\n",
        "import pandas as pd"
      ],
      "execution_count": 8,
      "outputs": []
    },
    {
      "cell_type": "code",
      "metadata": {
        "id": "TBreiE7Hhma1"
      },
      "source": [
        "# este código le o arquivo csv de lotes de 10000 linhas e vai salvando na lista temporária filtro_df. Ao final salva na variavel df\n",
        "filtro_df = []\n",
        "for chunk in pd.read_csv('/content/drive/MyDrive/Colab Datasets/vacina_sp/part-00000-f537b1aa-bf85-43a3-93e6-839ed89e4258.c000.csv', sep=';',chunksize=10000):\n",
        "  temp_df = chunk.loc[chunk['estabelecimento_municipio_nome'] == 'ATIBAIA']\n",
        "  filtro_df.append(temp_df)\n",
        "df = pd.concat(filtro_df, ignore_index=True)"
      ],
      "execution_count": null,
      "outputs": []
    },
    {
      "cell_type": "code",
      "metadata": {
        "id": "UR2gBQ7zpDMt"
      },
      "source": [
        "# converte os dados da data de aplicacao para o tipo data\n",
        "df.vacina_dataaplicacao = pd.to_datetime(df.vacina_dataaplicacao)"
      ],
      "execution_count": null,
      "outputs": []
    },
    {
      "cell_type": "code",
      "metadata": {
        "id": "fUDjPIhvp4Qm"
      },
      "source": [
        "# ordena as linhas por data de aplicacao \n",
        "df.sort_values('vacina_dataaplicacao', inplace=True)"
      ],
      "execution_count": null,
      "outputs": []
    },
    {
      "cell_type": "code",
      "metadata": {
        "id": "B1KdrXHeVOBU"
      },
      "source": [
        "# muda o nome da vacina\n",
        "novo_df = df.loc[df['vacina_nome'] == 'Vacina covid-19 - Ad26.COV2.S - Janssen-Cilag' , 'vacina_nome'] = 'Janssen/Cilag'"
      ],
      "execution_count": null,
      "outputs": []
    },
    {
      "cell_type": "code",
      "metadata": {
        "id": "u3CO8eesU6kC"
      },
      "source": [
        "novo_df = df.loc[df['vacina_nome'] == 'Vacina covid-19 - BNT162b2 - BioNTech/Fosun Pharma/Pfizer' , 'vacina_nome'] = 'Pfizer/BioNtech'"
      ],
      "execution_count": null,
      "outputs": []
    },
    {
      "cell_type": "code",
      "metadata": {
        "id": "Yb0EGanxStlx"
      },
      "source": [
        "novo_df = df.loc[df['vacina_nome'] == 'Vacina Covid-19 - Covishield' , 'vacina_nome'] = 'Covishield/AstraZeneca'"
      ],
      "execution_count": null,
      "outputs": []
    },
    {
      "cell_type": "code",
      "metadata": {
        "id": "yIcI_nZeUh_i"
      },
      "source": [
        "novo_df = df.loc[df['vacina_nome'] == 'Covid-19-Coronavac-Sinovac/Butantan' , 'vacina_nome'] = 'Coronavac/Butantan'"
      ],
      "execution_count": null,
      "outputs": []
    },
    {
      "cell_type": "code",
      "metadata": {
        "colab": {
          "base_uri": "https://localhost:8080/",
          "height": 35
        },
        "id": "-Rurzm4aT75c",
        "outputId": "75298c27-bc67-425a-a53b-aee396f86351"
      },
      "source": [
        "novo_df"
      ],
      "execution_count": null,
      "outputs": [
        {
          "output_type": "execute_result",
          "data": {
            "application/vnd.google.colaboratory.intrinsic+json": {
              "type": "string"
            },
            "text/plain": [
              "'Janssen/Cilag'"
            ]
          },
          "metadata": {
            "tags": []
          },
          "execution_count": 44
        }
      ]
    },
    {
      "cell_type": "code",
      "metadata": {
        "id": "omfXBZRNViaa"
      },
      "source": [
        "df.estalecimento_nofantasia.value_counts()"
      ],
      "execution_count": null,
      "outputs": []
    },
    {
      "cell_type": "code",
      "metadata": {
        "id": "H2ho7nJvqQUk"
      },
      "source": [
        "# salvar os dados filtrados em um novo csv eliminando o indice original\n",
        "df.to_csv ('/content/drive/MyDrive/Colab Datasets/vacina_sp/vacina_atibaia2.csv', index = False, sep=';')"
      ],
      "execution_count": null,
      "outputs": []
    },
    {
      "cell_type": "code",
      "metadata": {
        "id": "wE6Z13WusHd8"
      },
      "source": [
        "# abre o arquivo salvo na biblioteca\n",
        "df = pd.read_csv('/content/drive/MyDrive/Colab Datasets/vacina_sp/vacina_atibaia2.csv', sep=';')"
      ],
      "execution_count": 9,
      "outputs": []
    },
    {
      "cell_type": "code",
      "metadata": {
        "id": "Chkf49OjvdNO"
      },
      "source": [
        "import matplotlib.pyplot as plt"
      ],
      "execution_count": 10,
      "outputs": []
    },
    {
      "cell_type": "code",
      "metadata": {
        "id": "ofARBR6z0XNp"
      },
      "source": [
        "df.vacina_dataaplicacao = pd.to_datetime(df.vacina_dataaplicacao)"
      ],
      "execution_count": null,
      "outputs": []
    },
    {
      "cell_type": "code",
      "metadata": {
        "id": "pAP8mDSjb8vn"
      },
      "source": [
        "df['vacina_semanaaplicacao'] = df.vacina_dataaplicacao.dt.isocalendar().week"
      ],
      "execution_count": null,
      "outputs": []
    },
    {
      "cell_type": "code",
      "metadata": {
        "id": "N5Q_pkg0cu-4"
      },
      "source": [
        "# salvar os dados filtrados em um novo csv eliminando o indice original\n",
        "df.to_csv ('/content/drive/MyDrive/Colab Datasets/vacina_sp/vacina_atibaia2.csv', index = False, sep=';')"
      ],
      "execution_count": null,
      "outputs": []
    },
    {
      "cell_type": "code",
      "metadata": {
        "id": "UtGgLcZ_c2xS"
      },
      "source": [
        "# abre o arquivo salvo na biblioteca\n",
        "df = pd.read_csv('/content/drive/MyDrive/Colab Datasets/vacina_sp/vacina_atibaia2.csv', sep=';')"
      ],
      "execution_count": null,
      "outputs": []
    },
    {
      "cell_type": "code",
      "metadata": {
        "id": "yIR9OkN2c5wV"
      },
      "source": [
        "plt.hist(df['vacina_semanaaplicacao'])\n",
        "plt.style.use('bmh')\n",
        "plt.title('Vacina aplicadas por Fabricante em Atibaia SP', fontsize=14, fontweight='bold', fontstyle='italic', fontfamily='sans-serif')\n",
        "plt.tight_layout(w_pad=0.01, h_pad=0.01)\n",
        "plt.xlabel('etiqueta no eixo X')\n",
        "plt.ylabel('etiqueta no eixo y')\n",
        "plt.rcParams['figure.figsize'] = (10,6)\n",
        "plt.show()\n"
      ],
      "execution_count": null,
      "outputs": []
    },
    {
      "cell_type": "code",
      "metadata": {
        "id": "t6NjA-0rev2v"
      },
      "source": [
        "#Exibe o grafico de doses aplicadas de acordo com a semana do ano\n",
        "df.groupby(['vacina_semanaaplicacao']).agg({'vacina_semanaaplicacao':'count'}).plot(kind='bar')\n",
        "plt.style.use('bmh')\n",
        "plt.title('Quantidade de vacinas aplicadas por semana até 06/07/2021 em Atibaia-SP)', fontsize=14, fontweight='bold', fontstyle='italic', fontfamily='sans-serif')\n",
        "plt.xlabel('Semana do ano', fontsize=10, fontstyle='italic', fontfamily='sans-serif')\n",
        "plt.ylabel('Doses aplicadas', fontsize=10, fontstyle='italic', fontfamily='sans-serif')\n",
        "plt.rcParams['figure.figsize'] = (20,18)\n",
        "plt.show()\n"
      ],
      "execution_count": null,
      "outputs": []
    },
    {
      "cell_type": "code",
      "metadata": {
        "id": "VUzlwTlEiG06"
      },
      "source": [
        "#Exibe a quantidade de vacinas aplicadas de acordo com o fabricante\n",
        "df.vacina_nome.value_counts(normalize=True).plot(kind='pie', autopct='%.2f')\n",
        "plt.style.use('bmh')\n",
        "plt.title('Porcentagem de doses aplicadas por Fabricante até 06/07/2021 em Atibaia-SP', fontsize=14, fontweight='bold', fontstyle='italic', fontfamily='sans-serif')\n",
        "plt.ylabel('')\n",
        "plt.xlabel('Total de doses aplicadas: 77202 doses', fontsize=10, fontstyle='italic', fontfamily='sans-serif')\n",
        "plt.tight_layout(w_pad=0.5, h_pad=0.5)\n",
        "plt.rcParams['figure.figsize'] = (7,5)"
      ],
      "execution_count": null,
      "outputs": []
    },
    {
      "cell_type": "code",
      "metadata": {
        "id": "XjYlMb2nJ5jy"
      },
      "source": [
        "#Exibe a quantidade de vacinas aplicadas de acordo com o fabricante\n",
        "df.vacina_nome.value_counts()"
      ],
      "execution_count": null,
      "outputs": []
    },
    {
      "cell_type": "code",
      "metadata": {
        "id": "1vHMj614J9kH"
      },
      "source": [
        "#Exibe a porcentagem de vacinados de acordo com o sexo\n",
        "df.paciente_enumsexobiologico.value_counts(normalize=True)"
      ],
      "execution_count": null,
      "outputs": []
    },
    {
      "cell_type": "code",
      "metadata": {
        "id": "KvyUbDvpiVR0"
      },
      "source": [
        "#Exibe a quantidade de vacinas aplicadas de acordo com o sexo\n",
        "df.paciente_enumsexobiologico.value_counts(normalize=True).plot(kind='pie', autopct='%.2f', labels=['Mulheres','Homens'])\n",
        "plt.style.use('bmh')\n",
        "plt.title('Porcentagem de homens e mulheres vacinados até 06/07/2021 em Atibaia SP', fontsize=14, fontweight='bold', fontfamily='sans-serif')\n",
        "plt.ylabel('')\n",
        "plt.tight_layout(w_pad=0.5, h_pad=0.5)\n",
        "plt.rcParams['figure.figsize'] = (10,5)"
      ],
      "execution_count": null,
      "outputs": []
    },
    {
      "cell_type": "code",
      "metadata": {
        "id": "dSbwk7TwK8JP"
      },
      "source": [
        "#Exibe a porcentagem de vacinados de acordo com o raça\n",
        "df.paciente_racacor_valor.value_counts().plot(kind='bar')\n",
        "plt.style.use('bmh')\n",
        "plt.title('Quantidade de vacinados por raça até 06/07/2021 em Atibaia SP', fontsize=14, fontweight='bold', fontfamily='sans-serif')\n",
        "bins = range(0,55000,2500)\n",
        "plt.yticks(bins)"
      ],
      "execution_count": null,
      "outputs": []
    },
    {
      "cell_type": "code",
      "metadata": {
        "id": "hKVpKXDiLXRN",
        "colab": {
          "base_uri": "https://localhost:8080/",
          "height": 1000
        },
        "outputId": "310eae19-7cdf-4a03-96d3-3b219aaafd3e"
      },
      "source": [
        "#Exibe a quantidade de vacinas aplicadas por localidade\n",
        "df.estalecimento_nofantasia.value_counts().plot(kind='bar', figsize=(15,15))\n",
        "plt.style.use('bmh')\n",
        "plt.title('Quantidade de doses por posto de vacinação até 06/07/2021 em Atibaia SP', fontsize=14, fontweight='bold', fontfamily='sans-serif')\n",
        "bins = range(0,42000,1000)\n",
        "plt.yticks(bins)"
      ],
      "execution_count": 11,
      "outputs": [
        {
          "output_type": "execute_result",
          "data": {
            "text/plain": [
              "([<matplotlib.axis.YTick at 0x7f3dc99e1150>,\n",
              "  <matplotlib.axis.YTick at 0x7f3dd0e4f850>,\n",
              "  <matplotlib.axis.YTick at 0x7f3dc99cba10>,\n",
              "  <matplotlib.axis.YTick at 0x7f3dc98fcc90>,\n",
              "  <matplotlib.axis.YTick at 0x7f3dc9908250>,\n",
              "  <matplotlib.axis.YTick at 0x7f3dc9908750>,\n",
              "  <matplotlib.axis.YTick at 0x7f3dc99084d0>,\n",
              "  <matplotlib.axis.YTick at 0x7f3dc990f290>,\n",
              "  <matplotlib.axis.YTick at 0x7f3dc990f790>,\n",
              "  <matplotlib.axis.YTick at 0x7f3dc990f510>,\n",
              "  <matplotlib.axis.YTick at 0x7f3dc990fc10>,\n",
              "  <matplotlib.axis.YTick at 0x7f3dc9908dd0>,\n",
              "  <matplotlib.axis.YTick at 0x7f3dc98f2850>,\n",
              "  <matplotlib.axis.YTick at 0x7f3dc99184d0>,\n",
              "  <matplotlib.axis.YTick at 0x7f3dc9918a10>,\n",
              "  <matplotlib.axis.YTick at 0x7f3dc9918790>,\n",
              "  <matplotlib.axis.YTick at 0x7f3dc99214d0>,\n",
              "  <matplotlib.axis.YTick at 0x7f3dc9921a10>,\n",
              "  <matplotlib.axis.YTick at 0x7f3dc9921950>,\n",
              "  <matplotlib.axis.YTick at 0x7f3dc9921050>,\n",
              "  <matplotlib.axis.YTick at 0x7f3dc9918290>,\n",
              "  <matplotlib.axis.YTick at 0x7f3dc9928450>,\n",
              "  <matplotlib.axis.YTick at 0x7f3dc9928a90>,\n",
              "  <matplotlib.axis.YTick at 0x7f3dc992f150>,\n",
              "  <matplotlib.axis.YTick at 0x7f3dc992f6d0>,\n",
              "  <matplotlib.axis.YTick at 0x7f3dc992f290>,\n",
              "  <matplotlib.axis.YTick at 0x7f3dc98b6310>,\n",
              "  <matplotlib.axis.YTick at 0x7f3dc98b6910>,\n",
              "  <matplotlib.axis.YTick at 0x7f3dc98b64d0>,\n",
              "  <matplotlib.axis.YTick at 0x7f3dc992fad0>,\n",
              "  <matplotlib.axis.YTick at 0x7f3dc9928610>,\n",
              "  <matplotlib.axis.YTick at 0x7f3dc98bd550>,\n",
              "  <matplotlib.axis.YTick at 0x7f3dc98bd0d0>,\n",
              "  <matplotlib.axis.YTick at 0x7f3dc98c5250>,\n",
              "  <matplotlib.axis.YTick at 0x7f3dc98c5790>,\n",
              "  <matplotlib.axis.YTick at 0x7f3dc98c5350>,\n",
              "  <matplotlib.axis.YTick at 0x7f3dc98cc3d0>,\n",
              "  <matplotlib.axis.YTick at 0x7f3dc98cc050>,\n",
              "  <matplotlib.axis.YTick at 0x7f3dc98c56d0>,\n",
              "  <matplotlib.axis.YTick at 0x7f3dc990f410>,\n",
              "  <matplotlib.axis.YTick at 0x7f3dc98cce10>,\n",
              "  <matplotlib.axis.YTick at 0x7f3dc98d4490>],\n",
              " <a list of 42 Text major ticklabel objects>)"
            ]
          },
          "metadata": {
            "tags": []
          },
          "execution_count": 11
        },
        {
          "output_type": "display_data",
          "data": {
            "image/png": "[encoded data removed]",
            "text/plain": [
              "<Figure size 1080x1080 with 1 Axes>"
            ]
          },
          "metadata": {
            "tags": [],
            "needs_background": "light"
          }
        }
      ]
    },
    {
      "cell_type": "code",
      "metadata": {
        "colab": {
          "base_uri": "https://localhost:8080/"
        },
        "id": "j-wp8knBMRLH",
        "outputId": "9e801739-0fce-4aa8-9bdf-51dff3ef4897"
      },
      "source": [
        "total = df.shape\n",
        "total_doses = total[0]\n",
        "print('O total de vacinas contra COVID-19 aplicadas em Atibaia até o dia 06/07/2021 é de: {} doses'.format(total_doses))"
      ],
      "execution_count": null,
      "outputs": [
        {
          "output_type": "stream",
          "text": [
            "O total de vacinas contra COVID-19 aplicadas em Atibaia até o dia 06/07/2021 é de: 77202 doses\n"
          ],
          "name": "stdout"
        }
      ]
    },
    {
      "cell_type": "code",
      "metadata": {
        "id": "DNgTvdXcOwy6",
        "colab": {
          "base_uri": "https://localhost:8080/",
          "height": 561
        },
        "outputId": "b21ee95a-83e5-44bb-a6bf-a5d9aa4d9231"
      },
      "source": [
        "#Exibe a quantidade de vacinas aplicadas na primeira, segunda e dose unica\n",
        "df.vacina_descricao_dose.value_counts().plot(kind='barh')\n",
        "plt.style.use('bmh')\n",
        "plt.title('Quantidade de vacinas aplicadas em dose única, 1a. e 2a. dose ate 06/07/2021 em Atibaia SP', fontsize=14, fontweight='bold', fontfamily='sans-serif')\n",
        "bins = range(0,65000,5000)\n",
        "plt.xticks(bins)"
      ],
      "execution_count": null,
      "outputs": [
        {
          "output_type": "execute_result",
          "data": {
            "text/plain": [
              "([<matplotlib.axis.XTick at 0x7fad7d654190>,\n",
              "  <matplotlib.axis.XTick at 0x7fad7d659f50>,\n",
              "  <matplotlib.axis.XTick at 0x7fad7d659b10>,\n",
              "  <matplotlib.axis.XTick at 0x7fad7d614d50>,\n",
              "  <matplotlib.axis.XTick at 0x7fad7d61c650>,\n",
              "  <matplotlib.axis.XTick at 0x7fad7d61cb90>,\n",
              "  <matplotlib.axis.XTick at 0x7fad7d623190>,\n",
              "  <matplotlib.axis.XTick at 0x7fad7d61c5d0>,\n",
              "  <matplotlib.axis.XTick at 0x7fad7d614990>,\n",
              "  <matplotlib.axis.XTick at 0x7fad7d60c690>,\n",
              "  <matplotlib.axis.XTick at 0x7fad7d623150>,\n",
              "  <matplotlib.axis.XTick at 0x7fad7d623c50>,\n",
              "  <matplotlib.axis.XTick at 0x7fad7d62d250>],\n",
              " <a list of 13 Text major ticklabel objects>)"
            ]
          },
          "metadata": {
            "tags": []
          },
          "execution_count": 133
        },
        {
          "output_type": "display_data",
          "data": {
            "image/png": "[encoded data removed]",
            "text/plain": [
              "<Figure size 720x360 with 1 Axes>"
            ]
          },
          "metadata": {
            "tags": [],
            "needs_background": "light"
          }
        }
      ]
    },
    {
      "cell_type": "code",
      "metadata": {
        "id": "E6CYRkaITDNY"
      },
      "source": [
        "df1 = df.loc[df['paciente_datanascimento'] == '1964-03-10']"
      ],
      "execution_count": null,
      "outputs": []
    },
    {
      "cell_type": "code",
      "metadata": {
        "id": "djuRiOCn_leB"
      },
      "source": [
        "df1[:2]"
      ],
      "execution_count": null,
      "outputs": []
    },
    {
      "cell_type": "code",
      "metadata": {
        "id": "pIS-8-gJbx_n"
      },
      "source": [
        "df.vacina_grupoatendimento_nome.value_counts()"
      ],
      "execution_count": null,
      "outputs": []
    },
    {
      "cell_type": "code",
      "metadata": {
        "id": "NTaBYRM7eRib",
        "outputId": "825f25fb-4e43-4ae8-d985-e3a4872060dd",
        "colab": {
          "base_uri": "https://localhost:8080/",
          "height": 1000
        }
      },
      "source": [
        "df"
      ],
      "execution_count": 12,
      "outputs": [
        {
          "output_type": "execute_result",
          "data": {
            "text/html": [
              "<div>\n",
              "<style scoped>\n",
              "    .dataframe tbody tr th:only-of-type {\n",
              "        vertical-align: middle;\n",
              "    }\n",
              "\n",
              "    .dataframe tbody tr th {\n",
              "        vertical-align: top;\n",
              "    }\n",
              "\n",
              "    .dataframe thead th {\n",
              "        text-align: right;\n",
              "    }\n",
              "</style>\n",
              "<table border=\"1\" class=\"dataframe\">\n",
              "  <thead>\n",
              "    <tr style=\"text-align: right;\">\n",
              "      <th></th>\n",
              "      <th>document_id</th>\n",
              "      <th>paciente_id</th>\n",
              "      <th>paciente_idade</th>\n",
              "      <th>paciente_datanascimento</th>\n",
              "      <th>paciente_enumsexobiologico</th>\n",
              "      <th>paciente_racacor_codigo</th>\n",
              "      <th>paciente_racacor_valor</th>\n",
              "      <th>paciente_endereco_coibgemunicipio</th>\n",
              "      <th>paciente_endereco_copais</th>\n",
              "      <th>paciente_endereco_nmmunicipio</th>\n",
              "      <th>paciente_endereco_nmpais</th>\n",
              "      <th>paciente_endereco_uf</th>\n",
              "      <th>paciente_endereco_cep</th>\n",
              "      <th>paciente_nacionalidade_enumnacionalidade</th>\n",
              "      <th>estabelecimento_valor</th>\n",
              "      <th>estabelecimento_razaosocial</th>\n",
              "      <th>estalecimento_nofantasia</th>\n",
              "      <th>estabelecimento_municipio_codigo</th>\n",
              "      <th>estabelecimento_municipio_nome</th>\n",
              "      <th>estabelecimento_uf</th>\n",
              "      <th>vacina_grupoatendimento_codigo</th>\n",
              "      <th>vacina_grupoatendimento_nome</th>\n",
              "      <th>vacina_categoria_codigo</th>\n",
              "      <th>vacina_categoria_nome</th>\n",
              "      <th>vacina_lote</th>\n",
              "      <th>vacina_fabricante_nome</th>\n",
              "      <th>vacina_fabricante_referencia</th>\n",
              "      <th>vacina_dataaplicacao</th>\n",
              "      <th>vacina_descricao_dose</th>\n",
              "      <th>vacina_codigo</th>\n",
              "      <th>vacina_nome</th>\n",
              "      <th>sistema_origem</th>\n",
              "      <th>data_importacao_rnds</th>\n",
              "      <th>id_sistema_origem</th>\n",
              "      <th>vacina_semanaaplicacao</th>\n",
              "    </tr>\n",
              "  </thead>\n",
              "  <tbody>\n",
              "    <tr>\n",
              "      <th>0</th>\n",
              "      <td>9ae11125-a272-40fd-b091-78d1403fa91f-i0b0</td>\n",
              "      <td>3b2e20e659e4928aac7e29c93c0d4c1da70e35bdafe024...</td>\n",
              "      <td>22</td>\n",
              "      <td>1998-07-30</td>\n",
              "      <td>M</td>\n",
              "      <td>99</td>\n",
              "      <td>SEM INFORMACAO</td>\n",
              "      <td>350410.0</td>\n",
              "      <td>10.0</td>\n",
              "      <td>ATIBAIA</td>\n",
              "      <td>BRASIL</td>\n",
              "      <td>SP</td>\n",
              "      <td>12950.0</td>\n",
              "      <td>B</td>\n",
              "      <td>2081865</td>\n",
              "      <td>ALBERT SABIN HOSPITAL E MATERNIDADE LTDA</td>\n",
              "      <td>HOSPITAL ALBERT SABIN ATIBAIA</td>\n",
              "      <td>350410</td>\n",
              "      <td>ATIBAIA</td>\n",
              "      <td>SP</td>\n",
              "      <td>926</td>\n",
              "      <td>Outros</td>\n",
              "      <td>9.0</td>\n",
              "      <td>Trabalhadores de Saúde</td>\n",
              "      <td>202010033</td>\n",
              "      <td>Sinovac</td>\n",
              "      <td>NaN</td>\n",
              "      <td>2021-01-21</td>\n",
              "      <td>1ª Dose</td>\n",
              "      <td>86</td>\n",
              "      <td>Coronavac/Butantan</td>\n",
              "      <td>VACIVIDA</td>\n",
              "      <td>2021-01-21T08:01:26.000Z</td>\n",
              "      <td>18262</td>\n",
              "      <td>3</td>\n",
              "    </tr>\n",
              "    <tr>\n",
              "      <th>1</th>\n",
              "      <td>ccbe1a85-e5f3-4445-83e5-66a312507536-i0b0</td>\n",
              "      <td>8e9678d0ca1651548ae99aebeee3326704a97339d36341...</td>\n",
              "      <td>31</td>\n",
              "      <td>1989-07-03</td>\n",
              "      <td>F</td>\n",
              "      <td>1</td>\n",
              "      <td>BRANCA</td>\n",
              "      <td>350410.0</td>\n",
              "      <td>10.0</td>\n",
              "      <td>ATIBAIA</td>\n",
              "      <td>BRASIL</td>\n",
              "      <td>SP</td>\n",
              "      <td>12942.0</td>\n",
              "      <td>B</td>\n",
              "      <td>2039737</td>\n",
              "      <td>MUNICIPIO DE ATIBAIA</td>\n",
              "      <td>UBS ANTONIO DE PADUA ALONSO ATIBAIA</td>\n",
              "      <td>350410</td>\n",
              "      <td>ATIBAIA</td>\n",
              "      <td>SP</td>\n",
              "      <td>926</td>\n",
              "      <td>Outros</td>\n",
              "      <td>9.0</td>\n",
              "      <td>Trabalhadores de Saúde</td>\n",
              "      <td>202010033</td>\n",
              "      <td>Sinovac</td>\n",
              "      <td>NaN</td>\n",
              "      <td>2021-01-21</td>\n",
              "      <td>1ª Dose</td>\n",
              "      <td>86</td>\n",
              "      <td>Coronavac/Butantan</td>\n",
              "      <td>VACIVIDA</td>\n",
              "      <td>2021-01-21T15:01:00.000Z</td>\n",
              "      <td>18262</td>\n",
              "      <td>3</td>\n",
              "    </tr>\n",
              "    <tr>\n",
              "      <th>2</th>\n",
              "      <td>3a6dbc44-69b1-4497-8d4f-182a4c71a973-i0b0</td>\n",
              "      <td>d7710a9d5b926b8f38711a2790c92b0d67af383d837d8e...</td>\n",
              "      <td>26</td>\n",
              "      <td>1995-01-14</td>\n",
              "      <td>F</td>\n",
              "      <td>1</td>\n",
              "      <td>BRANCA</td>\n",
              "      <td>311060.0</td>\n",
              "      <td>10.0</td>\n",
              "      <td>CAMBUI</td>\n",
              "      <td>BRASIL</td>\n",
              "      <td>MG</td>\n",
              "      <td>37600.0</td>\n",
              "      <td>B</td>\n",
              "      <td>2078228</td>\n",
              "      <td>HOSPITAL NOVO ATIBAIA SA</td>\n",
              "      <td>HOSPITAL NOVO ATIBAIA</td>\n",
              "      <td>350410</td>\n",
              "      <td>ATIBAIA</td>\n",
              "      <td>SP</td>\n",
              "      <td>926</td>\n",
              "      <td>Outros</td>\n",
              "      <td>9.0</td>\n",
              "      <td>Trabalhadores de Saúde</td>\n",
              "      <td>202010033</td>\n",
              "      <td>Sinovac</td>\n",
              "      <td>NaN</td>\n",
              "      <td>2021-01-21</td>\n",
              "      <td>1ª Dose</td>\n",
              "      <td>86</td>\n",
              "      <td>Coronavac/Butantan</td>\n",
              "      <td>VACIVIDA</td>\n",
              "      <td>2021-01-21T10:01:48.000Z</td>\n",
              "      <td>18262</td>\n",
              "      <td>3</td>\n",
              "    </tr>\n",
              "    <tr>\n",
              "      <th>3</th>\n",
              "      <td>7cb906c9-5cc6-4e73-80bd-938fa081cf01-i0b0</td>\n",
              "      <td>666bd9198dd76eac67f00276f4f694b5e35be45590eb03...</td>\n",
              "      <td>26</td>\n",
              "      <td>1994-04-28</td>\n",
              "      <td>F</td>\n",
              "      <td>1</td>\n",
              "      <td>BRANCA</td>\n",
              "      <td>350410.0</td>\n",
              "      <td>10.0</td>\n",
              "      <td>ATIBAIA</td>\n",
              "      <td>BRASIL</td>\n",
              "      <td>SP</td>\n",
              "      <td>12943.0</td>\n",
              "      <td>B</td>\n",
              "      <td>2078228</td>\n",
              "      <td>HOSPITAL NOVO ATIBAIA SA</td>\n",
              "      <td>HOSPITAL NOVO ATIBAIA</td>\n",
              "      <td>350410</td>\n",
              "      <td>ATIBAIA</td>\n",
              "      <td>SP</td>\n",
              "      <td>926</td>\n",
              "      <td>Outros</td>\n",
              "      <td>9.0</td>\n",
              "      <td>Trabalhadores de Saúde</td>\n",
              "      <td>202010033</td>\n",
              "      <td>Sinovac</td>\n",
              "      <td>NaN</td>\n",
              "      <td>2021-01-21</td>\n",
              "      <td>1ª Dose</td>\n",
              "      <td>86</td>\n",
              "      <td>Coronavac/Butantan</td>\n",
              "      <td>VACIVIDA</td>\n",
              "      <td>2021-01-21T09:01:48.000Z</td>\n",
              "      <td>18262</td>\n",
              "      <td>3</td>\n",
              "    </tr>\n",
              "    <tr>\n",
              "      <th>4</th>\n",
              "      <td>e4bab64c-2d14-47cb-a0bc-36e968719976-i0b0</td>\n",
              "      <td>d69374c5c40e847270e9dee02c7e76f8a52200d5f1326a...</td>\n",
              "      <td>41</td>\n",
              "      <td>1979-11-01</td>\n",
              "      <td>F</td>\n",
              "      <td>1</td>\n",
              "      <td>BRANCA</td>\n",
              "      <td>350760.0</td>\n",
              "      <td>10.0</td>\n",
              "      <td>BRAGANCA PAULISTA</td>\n",
              "      <td>BRASIL</td>\n",
              "      <td>SP</td>\n",
              "      <td>12922.0</td>\n",
              "      <td>B</td>\n",
              "      <td>5366828</td>\n",
              "      <td>IRMANDADE DE MISERICORDIA DE ATIBAIA</td>\n",
              "      <td>SANTA CASA DE ATIBAIA</td>\n",
              "      <td>350410</td>\n",
              "      <td>ATIBAIA</td>\n",
              "      <td>SP</td>\n",
              "      <td>926</td>\n",
              "      <td>Outros</td>\n",
              "      <td>9.0</td>\n",
              "      <td>Trabalhadores de Saúde</td>\n",
              "      <td>202010033</td>\n",
              "      <td>Sinovac</td>\n",
              "      <td>NaN</td>\n",
              "      <td>2021-01-21</td>\n",
              "      <td>1ª Dose</td>\n",
              "      <td>86</td>\n",
              "      <td>Coronavac/Butantan</td>\n",
              "      <td>VACIVIDA</td>\n",
              "      <td>2021-01-21T17:26:29.000Z</td>\n",
              "      <td>18262</td>\n",
              "      <td>3</td>\n",
              "    </tr>\n",
              "    <tr>\n",
              "      <th>...</th>\n",
              "      <td>...</td>\n",
              "      <td>...</td>\n",
              "      <td>...</td>\n",
              "      <td>...</td>\n",
              "      <td>...</td>\n",
              "      <td>...</td>\n",
              "      <td>...</td>\n",
              "      <td>...</td>\n",
              "      <td>...</td>\n",
              "      <td>...</td>\n",
              "      <td>...</td>\n",
              "      <td>...</td>\n",
              "      <td>...</td>\n",
              "      <td>...</td>\n",
              "      <td>...</td>\n",
              "      <td>...</td>\n",
              "      <td>...</td>\n",
              "      <td>...</td>\n",
              "      <td>...</td>\n",
              "      <td>...</td>\n",
              "      <td>...</td>\n",
              "      <td>...</td>\n",
              "      <td>...</td>\n",
              "      <td>...</td>\n",
              "      <td>...</td>\n",
              "      <td>...</td>\n",
              "      <td>...</td>\n",
              "      <td>...</td>\n",
              "      <td>...</td>\n",
              "      <td>...</td>\n",
              "      <td>...</td>\n",
              "      <td>...</td>\n",
              "      <td>...</td>\n",
              "      <td>...</td>\n",
              "      <td>...</td>\n",
              "    </tr>\n",
              "    <tr>\n",
              "      <th>77197</th>\n",
              "      <td>b1fd3da6-6463-448c-8fdd-96e82df90ea2-i0b0</td>\n",
              "      <td>bf27889def672983c99b048b38fef1d7cb83a5c70da0f0...</td>\n",
              "      <td>48</td>\n",
              "      <td>1973-03-01</td>\n",
              "      <td>F</td>\n",
              "      <td>4</td>\n",
              "      <td>AMARELA</td>\n",
              "      <td>350410.0</td>\n",
              "      <td>10.0</td>\n",
              "      <td>ATIBAIA</td>\n",
              "      <td>BRASIL</td>\n",
              "      <td>SP</td>\n",
              "      <td>12945.0</td>\n",
              "      <td>B</td>\n",
              "      <td>2066629</td>\n",
              "      <td>MUNICIPIO DE ATIBAIA</td>\n",
              "      <td>UBS OSWALDO PACCINI ATIBAIA</td>\n",
              "      <td>350410</td>\n",
              "      <td>ATIBAIA</td>\n",
              "      <td>SP</td>\n",
              "      <td>103</td>\n",
              "      <td>Diabetes Mellitus</td>\n",
              "      <td>1.0</td>\n",
              "      <td>Comorbidades</td>\n",
              "      <td>210221A</td>\n",
              "      <td>SINOVAC</td>\n",
              "      <td>NaN</td>\n",
              "      <td>2021-07-06</td>\n",
              "      <td>2ª Dose</td>\n",
              "      <td>86</td>\n",
              "      <td>Coronavac/Butantan</td>\n",
              "      <td>VACIVIDA</td>\n",
              "      <td>2021-07-06T03:00:00.000Z</td>\n",
              "      <td>18262</td>\n",
              "      <td>27</td>\n",
              "    </tr>\n",
              "    <tr>\n",
              "      <th>77198</th>\n",
              "      <td>95dad47c-6d8a-4f14-bcff-f3e96e9c8e55-i0b0</td>\n",
              "      <td>b4dcc8233ee5c0206741225de035e37e7f9726bcd8d8fe...</td>\n",
              "      <td>55</td>\n",
              "      <td>1965-10-13</td>\n",
              "      <td>F</td>\n",
              "      <td>99</td>\n",
              "      <td>SEM INFORMACAO</td>\n",
              "      <td>NaN</td>\n",
              "      <td>NaN</td>\n",
              "      <td>NaN</td>\n",
              "      <td>NaN</td>\n",
              "      <td>NaN</td>\n",
              "      <td>NaN</td>\n",
              "      <td>B</td>\n",
              "      <td>2066629</td>\n",
              "      <td>MUNICIPIO DE ATIBAIA</td>\n",
              "      <td>UBS OSWALDO PACCINI ATIBAIA</td>\n",
              "      <td>350410</td>\n",
              "      <td>ATIBAIA</td>\n",
              "      <td>SP</td>\n",
              "      <td>801</td>\n",
              "      <td>Ensino Básico</td>\n",
              "      <td>8.0</td>\n",
              "      <td>Trabalhadores da Educação</td>\n",
              "      <td>210209</td>\n",
              "      <td>SINOVAC</td>\n",
              "      <td>NaN</td>\n",
              "      <td>2021-07-06</td>\n",
              "      <td>2ª Dose</td>\n",
              "      <td>86</td>\n",
              "      <td>Coronavac/Butantan</td>\n",
              "      <td>VACIVIDA</td>\n",
              "      <td>2021-07-06T03:00:00.000Z</td>\n",
              "      <td>18262</td>\n",
              "      <td>27</td>\n",
              "    </tr>\n",
              "    <tr>\n",
              "      <th>77199</th>\n",
              "      <td>6d5dcecf-17ba-47cd-8b90-8ce0c487104b-i0b0</td>\n",
              "      <td>6ba818bc75ae0d9c9fec1422ccc92020e4cbb7c3205205...</td>\n",
              "      <td>67</td>\n",
              "      <td>1953-09-08</td>\n",
              "      <td>M</td>\n",
              "      <td>1</td>\n",
              "      <td>BRANCA</td>\n",
              "      <td>350410.0</td>\n",
              "      <td>10.0</td>\n",
              "      <td>ATIBAIA</td>\n",
              "      <td>BRASIL</td>\n",
              "      <td>SP</td>\n",
              "      <td>12941.0</td>\n",
              "      <td>B</td>\n",
              "      <td>2066629</td>\n",
              "      <td>MUNICIPIO DE ATIBAIA</td>\n",
              "      <td>UBS OSWALDO PACCINI ATIBAIA</td>\n",
              "      <td>350410</td>\n",
              "      <td>ATIBAIA</td>\n",
              "      <td>SP</td>\n",
              "      <td>202</td>\n",
              "      <td>Pessoas de 65 a 69 anos</td>\n",
              "      <td>2.0</td>\n",
              "      <td>Faixa Etária</td>\n",
              "      <td>ABX0529</td>\n",
              "      <td>ASTRAZENECA/OXFORD</td>\n",
              "      <td>NaN</td>\n",
              "      <td>2021-07-06</td>\n",
              "      <td>2ª Dose</td>\n",
              "      <td>85</td>\n",
              "      <td>Covishield/AstraZeneca</td>\n",
              "      <td>VACIVIDA</td>\n",
              "      <td>2021-07-06T03:00:00.000Z</td>\n",
              "      <td>18262</td>\n",
              "      <td>27</td>\n",
              "    </tr>\n",
              "    <tr>\n",
              "      <th>77200</th>\n",
              "      <td>012dc075-19ae-4d93-b44e-0dc7ec51e6bf-i0b0</td>\n",
              "      <td>a339e8c4ca2d8a61be2ddd6e84e44d763f4b6f393e99a9...</td>\n",
              "      <td>42</td>\n",
              "      <td>1978-08-08</td>\n",
              "      <td>M</td>\n",
              "      <td>1</td>\n",
              "      <td>BRANCA</td>\n",
              "      <td>350760.0</td>\n",
              "      <td>10.0</td>\n",
              "      <td>BRAGANCA PAULISTA</td>\n",
              "      <td>BRASIL</td>\n",
              "      <td>SP</td>\n",
              "      <td>12922.0</td>\n",
              "      <td>B</td>\n",
              "      <td>2066629</td>\n",
              "      <td>MUNICIPIO DE ATIBAIA</td>\n",
              "      <td>UBS OSWALDO PACCINI ATIBAIA</td>\n",
              "      <td>350410</td>\n",
              "      <td>ATIBAIA</td>\n",
              "      <td>SP</td>\n",
              "      <td>201</td>\n",
              "      <td>Pessoas de 18 a 64 anos</td>\n",
              "      <td>2.0</td>\n",
              "      <td>Faixa Etária</td>\n",
              "      <td>215VCD139W</td>\n",
              "      <td>ASTRAZENECA/OXFORD</td>\n",
              "      <td>NaN</td>\n",
              "      <td>2021-07-06</td>\n",
              "      <td>1ª Dose</td>\n",
              "      <td>85</td>\n",
              "      <td>Covishield/AstraZeneca</td>\n",
              "      <td>VACIVIDA</td>\n",
              "      <td>2021-07-06T03:00:00.000Z</td>\n",
              "      <td>18262</td>\n",
              "      <td>27</td>\n",
              "    </tr>\n",
              "    <tr>\n",
              "      <th>77201</th>\n",
              "      <td>0b42aa27-daf9-43d6-a65f-0a0b1f186207-i0b0</td>\n",
              "      <td>bfb46df2acc7a07d11d5383a9ade45b7acfad04ee8770b...</td>\n",
              "      <td>67</td>\n",
              "      <td>1954-02-20</td>\n",
              "      <td>F</td>\n",
              "      <td>99</td>\n",
              "      <td>SEM INFORMACAO</td>\n",
              "      <td>350410.0</td>\n",
              "      <td>10.0</td>\n",
              "      <td>ATIBAIA</td>\n",
              "      <td>BRASIL</td>\n",
              "      <td>SP</td>\n",
              "      <td>12945.0</td>\n",
              "      <td>B</td>\n",
              "      <td>2066629</td>\n",
              "      <td>MUNICIPIO DE ATIBAIA</td>\n",
              "      <td>UBS OSWALDO PACCINI ATIBAIA</td>\n",
              "      <td>350410</td>\n",
              "      <td>ATIBAIA</td>\n",
              "      <td>SP</td>\n",
              "      <td>202</td>\n",
              "      <td>Pessoas de 65 a 69 anos</td>\n",
              "      <td>2.0</td>\n",
              "      <td>Faixa Etária</td>\n",
              "      <td>ABX0529</td>\n",
              "      <td>ASTRAZENECA/OXFORD</td>\n",
              "      <td>NaN</td>\n",
              "      <td>2021-07-06</td>\n",
              "      <td>2ª Dose</td>\n",
              "      <td>85</td>\n",
              "      <td>Covishield/AstraZeneca</td>\n",
              "      <td>VACIVIDA</td>\n",
              "      <td>2021-07-06T03:00:00.000Z</td>\n",
              "      <td>18262</td>\n",
              "      <td>27</td>\n",
              "    </tr>\n",
              "  </tbody>\n",
              "</table>\n",
              "<p>77202 rows × 35 columns</p>\n",
              "</div>"
            ],
            "text/plain": [
              "                                     document_id  ... vacina_semanaaplicacao\n",
              "0      9ae11125-a272-40fd-b091-78d1403fa91f-i0b0  ...                      3\n",
              "1      ccbe1a85-e5f3-4445-83e5-66a312507536-i0b0  ...                      3\n",
              "2      3a6dbc44-69b1-4497-8d4f-182a4c71a973-i0b0  ...                      3\n",
              "3      7cb906c9-5cc6-4e73-80bd-938fa081cf01-i0b0  ...                      3\n",
              "4      e4bab64c-2d14-47cb-a0bc-36e968719976-i0b0  ...                      3\n",
              "...                                          ...  ...                    ...\n",
              "77197  b1fd3da6-6463-448c-8fdd-96e82df90ea2-i0b0  ...                     27\n",
              "77198  95dad47c-6d8a-4f14-bcff-f3e96e9c8e55-i0b0  ...                     27\n",
              "77199  6d5dcecf-17ba-47cd-8b90-8ce0c487104b-i0b0  ...                     27\n",
              "77200  012dc075-19ae-4d93-b44e-0dc7ec51e6bf-i0b0  ...                     27\n",
              "77201  0b42aa27-daf9-43d6-a65f-0a0b1f186207-i0b0  ...                     27\n",
              "\n",
              "[77202 rows x 35 columns]"
            ]
          },
          "metadata": {
            "tags": []
          },
          "execution_count": 12
        }
      ]
    }
  ]
}