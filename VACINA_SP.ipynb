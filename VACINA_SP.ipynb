{
  "nbformat": 4,
  "nbformat_minor": 0,
  "metadata": {
    "colab": {
      "name": "VACINA_SP.ipynb",
      "provenance": [],
      "mount_file_id": "1oM_osAAVJHWbYFfsE3cM2TMhB1drxbXN",
      "authorship_tag": "ABX9TyOxmtMtuvgt69Dqy9fzpj9K",
      "include_colab_link": true
    },
    "kernelspec": {
      "name": "python3",
      "display_name": "Python 3"
    },
    "language_info": {
      "name": "python"
    }
  },
  "cells": [
    {
      "cell_type": "markdown",
      "metadata": {
        "id": "view-in-github",
        "colab_type": "text"
      },
      "source": [
        "<a href=\"https://colab.research.google.com/github/reginaldogalli/analiseDadosVacinacao/blob/main/VACINA_SP.ipynb\" target=\"_parent\"><img src=\"https://colab.research.google.com/assets/colab-badge.svg\" alt=\"Open In Colab\"/></a>"
      ]
    },
    {
      "cell_type": "code",
      "metadata": {
        "id": "g9WSTIM5dVWz",
        "colab": {
          "base_uri": "https://localhost:8080/"
        },
        "outputId": "7523fd8d-43e2-488c-d5d6-d72438145f8b"
      },
      "source": [
        "# baixa baixa um arquivo csv da internet direto para a pasta no google drive\n",
        "!wget -P '/content/drive/MyDrive/Colab Datasets/vacina_sp' https://s3-sa-east-1.amazonaws.com/ckan.saude.gov.br/PNI/vacina/uf/2021-07-07/uf%3DSP/part-00000-f537b1aa-bf85-43a3-93e6-839ed89e4258.c000.csv"
      ],
      "execution_count": null,
      "outputs": [
        {
          "output_type": "stream",
          "text": [
            "--2021-07-09 12:05:40--  https://s3-sa-east-1.amazonaws.com/ckan.saude.gov.br/PNI/vacina/uf/2021-07-07/uf%3DSP/part-00000-f537b1aa-bf85-43a3-93e6-839ed89e4258.c000.csv\n",
            "Resolving s3-sa-east-1.amazonaws.com (s3-sa-east-1.amazonaws.com)... 52.95.164.38\n",
            "Connecting to s3-sa-east-1.amazonaws.com (s3-sa-east-1.amazonaws.com)|52.95.164.38|:443... connected.\n",
            "HTTP request sent, awaiting response... 200 OK\n",
            "Length: 12842708184 (12G) [text/csv]\n",
            "Saving to: ‘/content/drive/MyDrive/Colab Datasets/vacina_sp/part-00000-f537b1aa-bf85-43a3-93e6-839ed89e4258.c000.csv’\n",
            "\n",
            "part-00000-f537b1aa 100%[===================>]  11.96G  21.8MB/s    in 9m 43s  \n",
            "\n",
            "2021-07-09 12:15:24 (21.0 MB/s) - ‘/content/drive/MyDrive/Colab Datasets/vacina_sp/part-00000-f537b1aa-bf85-43a3-93e6-839ed89e4258.c000.csv’ saved [12842708184/12842708184]\n",
            "\n"
          ],
          "name": "stdout"
        }
      ]
    },
    {
      "cell_type": "code",
      "metadata": {
        "id": "ai8bfVKvhogy"
      },
      "source": [
        "# importa a biblioteca pandas como pd\n",
        "import pandas as pd"
      ],
      "execution_count": null,
      "outputs": []
    },
    {
      "cell_type": "code",
      "metadata": {
        "id": "TBreiE7Hhma1"
      },
      "source": [
        "# este código le o arquivo csv de lotes de 10000 linhas e vai salvando na lista temporária filtro_df. Ao final salva na variavel df\n",
        "filtro_df = []\n",
        "for chunk in pd.read_csv('/content/drive/MyDrive/Colab Datasets/vacina_sp/part-00000-f537b1aa-bf85-43a3-93e6-839ed89e4258.c000.csv', sep=';',chunksize=10000):\n",
        "  temp_df = chunk.loc[chunk['estabelecimento_municipio_nome'] == 'ATIBAIA']\n",
        "  filtro_df.append(temp_df)\n",
        "df = pd.concat(filtro_df, ignore_index=True)"
      ],
      "execution_count": null,
      "outputs": []
    },
    {
      "cell_type": "code",
      "metadata": {
        "id": "UR2gBQ7zpDMt"
      },
      "source": [
        "# converte os dados da data de aplicacao para o tipo data\n",
        "df.vacina_dataaplicacao = pd.to_datetime(df.vacina_dataaplicacao)"
      ],
      "execution_count": null,
      "outputs": []
    },
    {
      "cell_type": "code",
      "metadata": {
        "id": "fUDjPIhvp4Qm"
      },
      "source": [
        "# ordena as linhas por data de aplicacao \n",
        "df.sort_values('vacina_dataaplicacao', inplace=True)"
      ],
      "execution_count": null,
      "outputs": []
    },
    {
      "cell_type": "code",
      "metadata": {
        "id": "B1KdrXHeVOBU"
      },
      "source": [
        "# muda o nome da vacina\n",
        "novo_df = df.loc[df['vacina_nome'] == 'Vacina covid-19 - Ad26.COV2.S - Janssen-Cilag' , 'vacina_nome'] = 'Janssen/Cilag'"
      ],
      "execution_count": null,
      "outputs": []
    },
    {
      "cell_type": "code",
      "metadata": {
        "id": "u3CO8eesU6kC"
      },
      "source": [
        "novo_df = df.loc[df['vacina_nome'] == 'Vacina covid-19 - BNT162b2 - BioNTech/Fosun Pharma/Pfizer' , 'vacina_nome'] = 'Pfizer/BioNtech'"
      ],
      "execution_count": null,
      "outputs": []
    },
    {
      "cell_type": "code",
      "metadata": {
        "id": "Yb0EGanxStlx"
      },
      "source": [
        "novo_df = df.loc[df['vacina_nome'] == 'Vacina Covid-19 - Covishield' , 'vacina_nome'] = 'Covishield/AstraZeneca'"
      ],
      "execution_count": null,
      "outputs": []
    },
    {
      "cell_type": "code",
      "metadata": {
        "id": "yIcI_nZeUh_i"
      },
      "source": [
        "novo_df = df.loc[df['vacina_nome'] == 'Covid-19-Coronavac-Sinovac/Butantan' , 'vacina_nome'] = 'Coronavac/Butantan'"
      ],
      "execution_count": null,
      "outputs": []
    },
    {
      "cell_type": "code",
      "metadata": {
        "colab": {
          "base_uri": "https://localhost:8080/",
          "height": 35
        },
        "id": "-Rurzm4aT75c",
        "outputId": "75298c27-bc67-425a-a53b-aee396f86351"
      },
      "source": [
        "novo_df"
      ],
      "execution_count": null,
      "outputs": [
        {
          "output_type": "execute_result",
          "data": {
            "application/vnd.google.colaboratory.intrinsic+json": {
              "type": "string"
            },
            "text/plain": [
              "'Janssen/Cilag'"
            ]
          },
          "metadata": {
            "tags": []
          },
          "execution_count": 44
        }
      ]
    },
    {
      "cell_type": "code",
      "metadata": {
        "id": "omfXBZRNViaa"
      },
      "source": [
        "df.estalecimento_nofantasia.value_counts()"
      ],
      "execution_count": null,
      "outputs": []
    },
    {
      "cell_type": "code",
      "metadata": {
        "id": "H2ho7nJvqQUk"
      },
      "source": [
        "# salvar os dados filtrados em um novo csv eliminando o indice original\n",
        "df.to_csv ('/content/drive/MyDrive/Colab Datasets/vacina_sp/vacina_atibaia2.csv', index = False, sep=';')"
      ],
      "execution_count": null,
      "outputs": []
    },
    {
      "cell_type": "code",
      "metadata": {
        "id": "wE6Z13WusHd8"
      },
      "source": [
        "# abre o arquivo salvo na biblioteca\n",
        "df = pd.read_csv('/content/drive/MyDrive/Colab Datasets/vacina_sp/vacina_atibaia2.csv', sep=';')"
      ],
      "execution_count": null,
      "outputs": []
    },
    {
      "cell_type": "code",
      "metadata": {
        "id": "Chkf49OjvdNO"
      },
      "source": [
        "import matplotlib.pyplot as plt"
      ],
      "execution_count": null,
      "outputs": []
    },
    {
      "cell_type": "code",
      "metadata": {
        "id": "ofARBR6z0XNp"
      },
      "source": [
        "df.vacina_dataaplicacao = pd.to_datetime(df.vacina_dataaplicacao)"
      ],
      "execution_count": null,
      "outputs": []
    },
    {
      "cell_type": "code",
      "metadata": {
        "id": "pAP8mDSjb8vn"
      },
      "source": [
        "df['vacina_semanaaplicacao'] = df.vacina_dataaplicacao.dt.isocalendar().week"
      ],
      "execution_count": null,
      "outputs": []
    },
    {
      "cell_type": "code",
      "metadata": {
        "id": "N5Q_pkg0cu-4"
      },
      "source": [
        "# salvar os dados filtrados em um novo csv eliminando o indice original\n",
        "df.to_csv ('/content/drive/MyDrive/Colab Datasets/vacina_sp/vacina_atibaia2.csv', index = False, sep=';')"
      ],
      "execution_count": null,
      "outputs": []
    },
    {
      "cell_type": "code",
      "metadata": {
        "id": "UtGgLcZ_c2xS"
      },
      "source": [
        "# abre o arquivo salvo na biblioteca\n",
        "df = pd.read_csv('/content/drive/MyDrive/Colab Datasets/vacina_sp/vacina_atibaia2.csv', sep=';')"
      ],
      "execution_count": null,
      "outputs": []
    },
    {
      "cell_type": "code",
      "metadata": {
        "id": "yIR9OkN2c5wV"
      },
      "source": [
        "plt.hist(df['vacina_semanaaplicacao'])\n",
        "plt.style.use('bmh')\n",
        "plt.title('Vacina aplicadas por Fabricante em Atibaia SP', fontsize=14, fontweight='bold', fontstyle='italic', fontfamily='sans-serif')\n",
        "plt.tight_layout(w_pad=0.01, h_pad=0.01)\n",
        "plt.xlabel('etiqueta no eixo X')\n",
        "plt.ylabel('etiqueta no eixo y')\n",
        "plt.rcParams['figure.figsize'] = (10,6)\n",
        "plt.show()\n"
      ],
      "execution_count": null,
      "outputs": []
    },
    {
      "cell_type": "code",
      "metadata": {
        "id": "t6NjA-0rev2v"
      },
      "source": [
        "#Exibe o grafico de doses aplicadas de acordo com a semana do ano\n",
        "df.groupby(['vacina_semanaaplicacao']).agg({'vacina_semanaaplicacao':'count'}).plot(kind='bar')\n",
        "plt.style.use('bmh')\n",
        "plt.title('Quantidade de vacinas aplicadas por semana até 06/07/2021 em Atibaia-SP)', fontsize=14, fontweight='bold', fontstyle='italic', fontfamily='sans-serif')\n",
        "plt.xlabel('Semana do ano', fontsize=10, fontstyle='italic', fontfamily='sans-serif')\n",
        "plt.ylabel('Doses aplicadas', fontsize=10, fontstyle='italic', fontfamily='sans-serif')\n",
        "plt.rcParams['figure.figsize'] = (20,18)\n",
        "plt.show()\n"
      ],
      "execution_count": null,
      "outputs": []
    },
    {
      "cell_type": "code",
      "metadata": {
        "id": "VUzlwTlEiG06"
      },
      "source": [
        "#Exibe a quantidade de vacinas aplicadas de acordo com o fabricante\n",
        "df.vacina_nome.value_counts(normalize=True).plot(kind='pie', autopct='%.2f')\n",
        "plt.style.use('bmh')\n",
        "plt.title('Porcentagem de doses aplicadas por Fabricante até 06/07/2021 em Atibaia-SP', fontsize=14, fontweight='bold', fontstyle='italic', fontfamily='sans-serif')\n",
        "plt.ylabel('')\n",
        "plt.xlabel('Total de doses aplicadas: 77202 doses', fontsize=10, fontstyle='italic', fontfamily='sans-serif')\n",
        "plt.tight_layout(w_pad=0.5, h_pad=0.5)\n",
        "plt.rcParams['figure.figsize'] = (7,5)"
      ],
      "execution_count": null,
      "outputs": []
    },
    {
      "cell_type": "code",
      "metadata": {
        "id": "XjYlMb2nJ5jy"
      },
      "source": [
        "#Exibe a quantidade de vacinas aplicadas de acordo com o fabricante\n",
        "df.vacina_nome.value_counts()"
      ],
      "execution_count": null,
      "outputs": []
    },
    {
      "cell_type": "code",
      "metadata": {
        "id": "1vHMj614J9kH"
      },
      "source": [
        "#Exibe a porcentagem de vacinados de acordo com o sexo\n",
        "df.paciente_enumsexobiologico.value_counts(normalize=True)"
      ],
      "execution_count": null,
      "outputs": []
    },
    {
      "cell_type": "code",
      "metadata": {
        "id": "KvyUbDvpiVR0"
      },
      "source": [
        "#Exibe a quantidade de vacinas aplicadas de acordo com o sexo\n",
        "df.paciente_enumsexobiologico.value_counts(normalize=True).plot(kind='pie', autopct='%.2f', labels=['Mulheres','Homens'])\n",
        "plt.style.use('bmh')\n",
        "plt.title('Porcentagem de homens e mulheres vacinados até 06/07/2021 em Atibaia SP', fontsize=14, fontweight='bold', fontfamily='sans-serif')\n",
        "plt.ylabel('')\n",
        "plt.tight_layout(w_pad=0.5, h_pad=0.5)\n",
        "plt.rcParams['figure.figsize'] = (10,5)"
      ],
      "execution_count": null,
      "outputs": []
    },
    {
      "cell_type": "code",
      "metadata": {
        "id": "dSbwk7TwK8JP"
      },
      "source": [
        "#Exibe a porcentagem de vacinados de acordo com o raça\n",
        "df.paciente_racacor_valor.value_counts().plot(kind='bar')\n",
        "plt.style.use('bmh')\n",
        "plt.title('Quantidade de vacinados por raça até 06/07/2021 em Atibaia SP', fontsize=14, fontweight='bold', fontfamily='sans-serif')\n",
        "bins = range(0,55000,2500)\n",
        "plt.yticks(bins)"
      ],
      "execution_count": null,
      "outputs": []
    },
    {
      "cell_type": "code",
      "metadata": {
        "id": "hKVpKXDiLXRN"
      },
      "source": [
        "#Exibe a quantidade de vacinas aplicadas por localidade\n",
        "df.estalecimento_nofantasia.value_counts().plot(kind='bar', figsize=(15,15))\n",
        "plt.style.use('bmh')\n",
        "plt.title('Quantidade de doses por posto de vacinação até 06/07/2021 em Atibaia SP', fontsize=14, fontweight='bold', fontfamily='sans-serif')\n",
        "bins = range(0,42000,1000)\n",
        "plt.yticks(bins)"
      ],
      "execution_count": null,
      "outputs": []
    },
    {
      "cell_type": "code",
      "metadata": {
        "colab": {
          "base_uri": "https://localhost:8080/"
        },
        "id": "j-wp8knBMRLH",
        "outputId": "9e801739-0fce-4aa8-9bdf-51dff3ef4897"
      },
      "source": [
        "total = df.shape\n",
        "total_doses = total[0]\n",
        "print('O total de vacinas contra COVID-19 aplicadas em Atibaia até o dia 06/07/2021 é de: {} doses'.format(total_doses))"
      ],
      "execution_count": null,
      "outputs": [
        {
          "output_type": "stream",
          "text": [
            "O total de vacinas contra COVID-19 aplicadas em Atibaia até o dia 06/07/2021 é de: 77202 doses\n"
          ],
          "name": "stdout"
        }
      ]
    },
    {
      "cell_type": "code",
      "metadata": {
        "id": "DNgTvdXcOwy6",
        "colab": {
          "base_uri": "https://localhost:8080/",
          "height": 561
        },
        "outputId": "b21ee95a-83e5-44bb-a6bf-a5d9aa4d9231"
      },
      "source": [
        "#Exibe a quantidade de vacinas aplicadas na primeira, segunda e dose unica\n",
        "df.vacina_descricao_dose.value_counts().plot(kind='barh')\n",
        "plt.style.use('bmh')\n",
        "plt.title('Quantidade de vacinas aplicadas em dose única, 1a. e 2a. dose ate 06/07/2021 em Atibaia SP', fontsize=14, fontweight='bold', fontfamily='sans-serif')\n",
        "bins = range(0,65000,5000)\n",
        "plt.xticks(bins)"
      ],
      "execution_count": null,
      "outputs": [
        {
          "output_type": "execute_result",
          "data": {
            "text/plain": [
              "([<matplotlib.axis.XTick at 0x7fad7d654190>,\n",
              "  <matplotlib.axis.XTick at 0x7fad7d659f50>,\n",
              "  <matplotlib.axis.XTick at 0x7fad7d659b10>,\n",
              "  <matplotlib.axis.XTick at 0x7fad7d614d50>,\n",
              "  <matplotlib.axis.XTick at 0x7fad7d61c650>,\n",
              "  <matplotlib.axis.XTick at 0x7fad7d61cb90>,\n",
              "  <matplotlib.axis.XTick at 0x7fad7d623190>,\n",
              "  <matplotlib.axis.XTick at 0x7fad7d61c5d0>,\n",
              "  <matplotlib.axis.XTick at 0x7fad7d614990>,\n",
              "  <matplotlib.axis.XTick at 0x7fad7d60c690>,\n",
              "  <matplotlib.axis.XTick at 0x7fad7d623150>,\n",
              "  <matplotlib.axis.XTick at 0x7fad7d623c50>,\n",
              "  <matplotlib.axis.XTick at 0x7fad7d62d250>],\n",
              " <a list of 13 Text major ticklabel objects>)"
            ]
          },
          "metadata": {
            "tags": []
          },
          "execution_count": 133
        },
        {
          "output_type": "display_data",
          "data": {
            "image/png": "[encoded data removed]",
            "text/plain": [
              "<Figure size 720x360 with 1 Axes>"
            ]
          },
          "metadata": {
            "tags": [],
            "needs_background": "light"
          }
        }
      ]
    },
    {
      "cell_type": "code",
      "metadata": {
        "id": "E6CYRkaITDNY"
      },
      "source": [
        "df1 = df.loc[df['paciente_datanascimento'] == '1964-03-10']"
      ],
      "execution_count": null,
      "outputs": []
    },
    {
      "cell_type": "code",
      "metadata": {
        "id": "djuRiOCn_leB"
      },
      "source": [
        "df1[:2]"
      ],
      "execution_count": null,
      "outputs": []
    },
    {
      "cell_type": "code",
      "metadata": {
        "id": "pIS-8-gJbx_n"
      },
      "source": [
        "df.vacina_grupoatendimento_nome.value_counts()"
      ],
      "execution_count": null,
      "outputs": []
    }
  ]
}